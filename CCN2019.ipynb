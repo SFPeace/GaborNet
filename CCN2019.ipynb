{
 "cells": [
  {
   "cell_type": "code",
   "execution_count": null,
   "metadata": {},
   "outputs": [],
   "source": [
    "import os\n",
    "import numpy as np\n",
    "\n",
    "def calc_bandwidth(lambd, sigma):\n",
    "    r = np.pi*sigma/lambd\n",
    "    c = np.sqrt(np.log(2)/2)\n",
    "    return np.log2((r + c)/(r - c))\n",
    "\n",
    "def calc_sigma(lambd, bandwidth):\n",
    "    p = 2**bandwidth\n",
    "    c = np.sqrt(np.log(2)/2)\n",
    "    return lambd * c / np.pi  * (p + 1) / (p - 1)\n",
    "\n",
    "def calc_lambda(sigma, bandwidth):\n",
    "    p = 2**bandwidth\n",
    "    c = np.sqrt(np.log(2)/2)\n",
    "    return sigma * np.pi / c  * (p - 1) / (p + 1)\n",
    "\n",
    "project_root = os.path.realpath(os.pardir)\n",
    "fig_dir = os.path.join(project_root, \"results\", \"figs\")\n",
    "if not os.path.isdir(fig_dir):\n",
    "    os.makedirs(fig_dir)"
   ]
  },
  {
   "cell_type": "code",
   "execution_count": null,
   "metadata": {},
   "outputs": [],
   "source": [
    "# Set parameters\n",
    "data_set = 'pixel'\n",
    "# stimulus_sets = ['static', 'jitter']\n",
    "stimulus_set = 'jitter'\n",
    "\n",
    "start_trial = 1\n",
    "num_trials = 5\n",
    "\n",
    "# lambdas = [3, 4, 5, 6, 7, 8]\n",
    "# sigmas = [1, 2, 3, 4, 5]\n",
    "sigmas = [0.2, 0.4, 0.6, 0.8, 1, 1.2, 1.4, 1.6, 1.8, 2, 2.2, 2.4, 2.6, 2.8, 3, 4, 5]\n",
    "bandwidths = np.linspace(1, 1.8, num=5)\n",
    "\n",
    "epochs = 20\n",
    "save_loss = 0\n",
    "data_augmentation = 0\n",
    "fresh_data = 0\n",
    "n_gpus = 1"
   ]
  },
  {
   "cell_type": "code",
   "execution_count": null,
   "metadata": {},
   "outputs": [],
   "source": [
    "[1.2, 1.4, 1.6, 1.8, 2.2, 2.4, 2.6, 2.8]\n",
    "np.linspace(1, 3, num=11)"
   ]
  },
  {
   "cell_type": "markdown",
   "metadata": {},
   "source": [
    "# Run the model\n",
    "import os\n",
    "from tqdm import tqdm_notebook\n",
    "\n",
    "# for stimulus_set in tqdm_notebook(stimulus_sets, desc=\"Set\"):\n",
    "# for bandwidth in tqdm_notebook(bandwidths, desc='$b$', leave=True):\n",
    "for trial in tqdm_notebook(range(start_trial, start_trial+num_trials), desc='Trial'):\n",
    "    for sigma in tqdm_notebook(sigmas, desc='$\\sigma$', leave=True):\n",
    "        for bandwidth in tqdm_notebook(bandwidths, desc='$b$', leave=True):\n",
    "#         for lambd in tqdm_notebook(lambdas, desc='$\\lambda$', leave=True):\n",
    "#             sigma = calc_sigma(lambd, bandwidth)\n",
    "            lambd = calc_lambda(sigma, bandwidth)\n",
    "            trial_label = f\"{trial}_sigma={float(sigma):.2}_lambd={float(lambd):.2}\"\n",
    "            args = (f\"--data_set {data_set} --stimulus_set {stimulus_set} \"\n",
    "                    f\"--trial_label {trial_label} --sigma {sigma} --lambd {lambd} \"\n",
    "                    f\"--data_augmentation {data_augmentation} --fresh_data {fresh_data} \"\n",
    "                    f\"--n_gpus {n_gpus} --epochs {epochs} --save_loss {save_loss}\")  #  --model_name {model_name}\n",
    "            os.system(f'python3 gabornet.py {args}')"
   ]
  },
  {
   "cell_type": "code",
   "execution_count": null,
   "metadata": {},
   "outputs": [],
   "source": [
    "# Load accuracy scores and plot\n",
    "%matplotlib inline\n",
    "import json\n",
    "import pandas as pd\n",
    "import numpy as np\n",
    "from matplotlib import pyplot as plt\n",
    "import seaborn as sns\n",
    "\n",
    "\n",
    "# data_set = 'pixel'\n",
    "stimulus_set = 'jitter'  # 'static'  # 'jitter'\n",
    "noise_types = ['Original', 'Salt-and-pepper', 'Additive', 'Single-pixel']  # 'Original'\n",
    "test_conditions = ['Same', 'Diff', 'NoPix']\n",
    "results_dir = os.path.join(project_root, 'results', data_set, stimulus_set)\n",
    "\n",
    "rows = []\n",
    "test_rows = []\n",
    "\n",
    "# for stimulus_set in stimulus_sets:\n",
    "for trial in range(1, 1+num_trials):\n",
    "    for noise_type in noise_types:\n",
    "#         for lambd in lambdas:\n",
    "        for sigma in sigmas:\n",
    "            for bandwidth in bandwidths:\n",
    "#                 sigma = calc_sigma(lambd, bandwidth)\n",
    "                lambd = calc_lambda(sigma, bandwidth)\n",
    "\n",
    "                trial_label = f\"{trial}_sigma={float(sigma):.2}_lambd={float(lambd):.2}\"\n",
    "                model_name = f\"{noise_type}_{trial_label}\"\n",
    "                # print(model_name)\n",
    "\n",
    "                acc_scores = np.load(os.path.join(results_dir, f'{model_name}_ACC.npy'))\n",
    "                valacc_scores = np.load(os.path.join(results_dir, f'{model_name}_VALACC.npy'))\n",
    "                if save_loss:\n",
    "                    loss = np.load(os.path.join(results_dir, f'{model_name}_LOSS.npy'))\n",
    "                    valloss = np.load(os.path.join(results_dir, f'{model_name}_VALLOSS.npy'))\n",
    "                else:\n",
    "                    loss = np.zeros(epochs)\n",
    "                    valloss = np.zeros(epochs)\n",
    "\n",
    "                with open(os.path.join(results_dir, f'{model_name}_CONDVALACC.json'), \"r\") as jf:\n",
    "                    cond_acc = json.load(jf)\n",
    "                if save_loss:\n",
    "                    with open(os.path.join(results_dir, f'{model_name}_CONDVALLOSS.json'), \"r\") as jf:\n",
    "                        cond_loss = json.load(jf)\n",
    "                else:\n",
    "                    cond_loss = {condition: 0 for condition in test_conditions}\n",
    "\n",
    "                for condition in test_conditions:\n",
    "                    test_rows.append({'Trial': trial, 'Noise': noise_type, 'Condition': condition, \n",
    "                                      'Scale': sigma, 'Wavelength': lambd, 'Bandwidth': bandwidth,\n",
    "                                      'Loss': cond_loss[condition], 'Accuracy': cond_acc[condition]})\n",
    "                for epoch in range(epochs):\n",
    "                    rows.append({'Trial': trial, 'Noise': noise_type, 'Epoch': epoch+1, 'Evaluation': 'Testing', \n",
    "                                 'Scale': sigma, 'Wavelength': lambd, 'Bandwidth': bandwidth, \n",
    "                                 'Loss': valloss[epoch], 'Accuracy': valacc_scores[epoch]})\n",
    "\n",
    "                    rows.append({'Trial': trial, 'Noise': noise_type, 'Epoch': epoch+1, 'Evaluation': 'Training', \n",
    "                                 'Scale': sigma, 'Wavelength': lambd, 'Bandwidth': bandwidth, \n",
    "                                 'Loss': loss[epoch], 'Accuracy': acc_scores[epoch]})\n",
    "\n",
    "scores = pd.DataFrame(rows, columns=['Trial', 'Noise', 'Epoch', 'Evaluation', 'Scale', 'Wavelength', 'Bandwidth', 'Loss', 'Accuracy'])\n",
    "test_scores = pd.DataFrame(test_rows, columns=['Trial', 'Noise', 'Condition', 'Scale', 'Wavelength', 'Bandwidth', 'Loss', 'Accuracy'])\n",
    "\n",
    "symbols = {'Orientation': '$\\theta$',\n",
    "           'Phase': '$\\psi$',\n",
    "           'Aspect': '$\\gamma$',\n",
    "           'Scale': '$\\sigma$',\n",
    "           'Wavelength': '$\\lambda$',\n",
    "           'Bandwidth': '$b$'}\n",
    "\n",
    "units = {'Orientation': 'radians',\n",
    "         'Phase': 'radians',\n",
    "         'Aspect': '',\n",
    "         'Scale': '',  # Check\n",
    "         'Wavelength': 'pixels',  # 'pixels/cycle'\n",
    "         'Bandwidth': 'octaves'}  # Check\n",
    "\n",
    "if not save_loss:\n",
    "    scores.drop(columns='Loss', inplace=True)\n",
    "    test_scores.drop(columns='Loss', inplace=True)\n",
    "# scores.rename(columns={'Noise': 'Mask'}, inplace=True)\n",
    "scores.loc[:, 'Accuracy'] *= 100  # Convert to percentage\n",
    "# test_scores.rename(columns={'Noise': 'Mask'}, inplace=True)\n",
    "test_scores.loc[:, 'Accuracy'] *= 100  # Convert to percentage"
   ]
  },
  {
   "cell_type": "code",
   "execution_count": null,
   "metadata": {},
   "outputs": [],
   "source": [
    "test_scores.head()"
   ]
  },
  {
   "cell_type": "code",
   "execution_count": null,
   "metadata": {},
   "outputs": [],
   "source": [
    "print(test_scores['Scale'].min(), test_scores['Scale'].max())\n",
    "print(test_scores['Wavelength'].min(), test_scores['Wavelength'].max())\n",
    "print(test_scores['Bandwidth'].min(), test_scores['Bandwidth'].max())"
   ]
  },
  {
   "cell_type": "markdown",
   "metadata": {},
   "source": [
    "## Rerun"
   ]
  },
  {
   "cell_type": "code",
   "execution_count": null,
   "metadata": {},
   "outputs": [],
   "source": [
    "os.environ[\"CUDA_DEVICE_ORDER\"] = \"PCI_BUS_ID\"\n",
    "os.environ[\"CUDA_VISIBLE_DEVICES\"] = \"1,0\""
   ]
  },
  {
   "cell_type": "code",
   "execution_count": null,
   "metadata": {},
   "outputs": [],
   "source": [
    "%env CUDA_DEVICE_ORDER=PCI_BUS_ID\n",
    "%env CUDA_VISIBLE_DEVICES=1"
   ]
  },
  {
   "cell_type": "code",
   "execution_count": null,
   "metadata": {},
   "outputs": [],
   "source": [
    "test_scores.query('Scale == 2.4 and Bandwidth == 1.8 and Noise == \"Original\" and Trial == 2')"
   ]
  },
  {
   "cell_type": "code",
   "execution_count": null,
   "metadata": {},
   "outputs": [],
   "source": [
    "sns.lineplot(x='Epoch', y='Accuracy', hue='Evaluation', data=scores.query('Scale == 2.4 and Bandwidth == 1.8 and Noise == \"Original\" and Trial == 2'))"
   ]
  },
  {
   "cell_type": "code",
   "execution_count": null,
   "metadata": {},
   "outputs": [],
   "source": [
    "test_scores.query('Scale == 2.4 and Bandwidth == 1.4 and Noise == \"Single-pixel\" and Trial == 5')"
   ]
  },
  {
   "cell_type": "code",
   "execution_count": null,
   "metadata": {},
   "outputs": [],
   "source": [
    "sns.lineplot(x='Epoch', y='Accuracy', hue='Evaluation', data=scores.query('Scale == 2.4 and Bandwidth == 1.4 and Noise == \"Single-pixel\" and Trial == 5'))"
   ]
  },
  {
   "cell_type": "code",
   "execution_count": null,
   "metadata": {},
   "outputs": [],
   "source": [
    "test_scores.query('Scale == 4 and Bandwidth == 1.4 and Noise == \"Single-pixel\"')"
   ]
  },
  {
   "cell_type": "code",
   "execution_count": null,
   "metadata": {},
   "outputs": [],
   "source": [
    "test_scores.query('Scale < 1 and Noise == \"Single-pixel\"')"
   ]
  },
  {
   "cell_type": "markdown",
   "metadata": {},
   "source": [
    "# Plot full data set"
   ]
  },
  {
   "cell_type": "code",
   "execution_count": null,
   "metadata": {},
   "outputs": [],
   "source": [
    "display_lam = 5\n",
    "display_bw = 1.4\n",
    "display_sig = 3\n",
    "\n",
    "subfig_size = (7, 6)\n",
    "sns.set_context('paper')\n",
    "# sns.set(context='paper', style=\"white\", font_scale=1.45)  #, font='serif') \n",
    "#         rc={\"font.family\": \"serif\", \"font.serif\": [\"Times\", \"Palatino\", \"serif\"]})\n",
    "sns.set(style=\"white\")\n",
    "sns.set(font='serif')\n",
    "sns.set(font_scale=2)  # 2.5\n",
    "sns.set_style(\"white\",\n",
    "              {\"font.family\": \"serif\",\n",
    "               \"font.serif\": [\"Times\", \"Palatino\", \"serif\"]})\n",
    "palette = plt.rcParams[\"axes.prop_cycle\"].by_key()[\"color\"]\n",
    "\n",
    "orig_scores = test_scores.query('Noise == \"Original\" and Condition == \"Same\"')\n",
    "noise_scores = test_scores.drop(test_scores.query('Noise == \"Original\"').index)\n",
    "new_scores = [orig_scores.replace(\"Original\", noise).replace(\"Same\", \"None\") for noise in noise_types[1:]]\n",
    "recomb_scores = pd.concat([noise_scores, *new_scores]) #.query(f\"Bandwidth == {display_bw}\")\n",
    "# recomb_scores = pd.concat([noise_scores, orig_scores.replace(\"Same\", \"None\")]) #.query(f\"Bandwidth == {display_bw}\")"
   ]
  },
  {
   "cell_type": "markdown",
   "metadata": {},
   "source": [
    "## Plot training end points"
   ]
  },
  {
   "cell_type": "code",
   "execution_count": null,
   "metadata": {},
   "outputs": [],
   "source": [
    "g = sns.catplot(x=\"Noise\", y=\"Accuracy\", row='Scale', col='Bandwidth', hue=\"Condition\", kind=\"bar\", data=noise_scores)\n",
    "g.set(ylim=(0,100))\n",
    "for bi, row in enumerate(g.axes):\n",
    "    for li, ax in enumerate(row):\n",
    "        ax.axhline(y=10, linestyle='--', color='#e74c3c')\n",
    "        mean_scores = orig_scores.query('Scale == \"{}\" and Bandwidth == \"{}\"'.format(sigmas[bi], bandwidths[li])).mean()\n",
    "        ax.axhline(y=mean_scores['Accuracy'], linestyle=':', color=palette[4])\n",
    "g.set_xticklabels(labels=g.axes.flat[-1].get_xticklabels(), rotation=45)\n",
    "g.set_titles(template=r'$\\sigma$ = {row_name} | $b$ = {col_name}')"
   ]
  },
  {
   "cell_type": "markdown",
   "metadata": {},
   "source": [
    "## Plot performance trends"
   ]
  },
  {
   "cell_type": "code",
   "execution_count": null,
   "metadata": {},
   "outputs": [],
   "source": [
    "# g = sns.relplot(x='Bandwidth', y='Accuracy', row='Sigma', col='Noise', hue='Condition', kind='line', data=test_scores)\n",
    "# g.set(ylim=(0,100))\n",
    "# for row in g.axes:\n",
    "#     for ax in row:\n",
    "#         ax.axhline(y=10, linestyle='--', color='#e74c3c')\n",
    "# # g.set_xlabels(r'$\\sigma$ [pixels]')\n",
    "# g.set(xticks=bandwidths)\n",
    "# g.set_titles(template=r'$\\sigma$ = {row_name} | {col_name}')  # {col_var} = \n",
    "\n",
    "\n",
    "g = sns.relplot(x='Bandwidth', y='Accuracy', row='Scale', col='Noise', hue='Condition', \n",
    "                kind='line', data=recomb_scores, palette=[*palette[:3], palette[7]], aspect=1.3)\n",
    "# g = sns.relplot(x='Bandwidth', y='Accuracy', row='Lambda', col='Noise', hue='Condition', \n",
    "#                 kind='line', data=recomb_scores, palette=[*palette[:3], palette[7]], aspect=1.3)  #, height=height)\n",
    "g.set(ylim=(0,100))\n",
    "g.set(xticks=bandwidths)\n",
    "g.set_xlabels(r'$b$ [octaves]')\n",
    "g.set_titles(template=r'$\\sigma$ = {row_name} | {col_name}')  # {col_var} =\n",
    "# g.set(font_scale=3)\n",
    "# g.set(margin_titles=True)\n",
    "\n",
    "for li, row in enumerate(g.axes):\n",
    "    for bi, ax in enumerate(row):\n",
    "        ax.axhline(y=10, linestyle='--', linewidth=3, color='#e74c3c')\n",
    "        ax.axvline(x=display_bw, linestyle=':', linewidth=3, color=palette[8])\n",
    "\n",
    "# plt.tight_layout()\n",
    "# g.savefig(os.path.join(fig_dir, f\"sup_fig_bandwidth.pdf\"), bbox_inches=\"tight\")"
   ]
  },
  {
   "cell_type": "code",
   "execution_count": null,
   "metadata": {},
   "outputs": [],
   "source": [
    "aspect = 1.3\n",
    "width = 5.5\n",
    "height = width / aspect\n",
    "\n",
    "g = sns.relplot(x='Scale', y='Accuracy', row='Bandwidth', col='Noise', hue='Condition', \n",
    "                kind='line', data=recomb_scores, palette=[*palette[:3], palette[7]], aspect=aspect, height=5.2)  # .query(\"Bandwidth == 1.4\")\n",
    "g.set(ylim=(0,100))\n",
    "g.set_xlabels(r'$\\sigma$')  # [pixels]\n",
    "# g.set(xticks=sigmas)\n",
    "g.set_titles(template=r'$b$ = {row_name} | {col_name}')  # {col_var} = \n",
    "for bi, row in enumerate(g.axes):\n",
    "    for li, ax in enumerate(row):\n",
    "        ax.axhline(y=10, linestyle='--', linewidth=3, color='#e74c3c')  # e74c3c\n",
    "        ax.axvline(x=display_sig, linestyle=':', linewidth=3, color=palette[8])\n",
    "\n",
    "# g.set(xscale='log')\n",
    "# plt.tight_layout()\n",
    "# g.savefig(os.path.join(fig_dir, f\"sup_fig_lambda.pdf\"), bbox_inches=\"tight\")#, additional_artists=[lgd])"
   ]
  },
  {
   "cell_type": "code",
   "execution_count": null,
   "metadata": {},
   "outputs": [],
   "source": []
  },
  {
   "cell_type": "markdown",
   "metadata": {},
   "source": [
    "Does normalisation need to be applied to the outputs of the convolutions?\n",
    "\n",
    "## Gabor filters\n",
    "* At which precise value of $\\sigma$ does the transition occur?\n",
    "* How does this relate to the size of a pixel?\n",
    "* $\\rightarrow$ Use a finer grid and extend $\\sigma < 1$\n",
    "\n",
    "## Difference of Gaussians filters\n",
    "* What happens when the Gabor filters are replaced with DoGs?\n",
    "* Does this work better for Additive noise?\n",
    "* Does this generally preserve more of the network's performance?\n",
    "* $\\rightarrow$ Run a grid search on DoG parameters\n",
    "\n",
    "Consider hard-coding both in the first two layers\n",
    "\n",
    "From https://micro.magnet.fsu.edu/primer/java/digitalimaging/processing/diffgaussians/:\n",
    "\n",
    "Blurring an image using a Gaussian kernel suppresses only high-frequency spatial information. Subtracting one image from the other preserves spatial information that lies between the range of frequencies that are preserved in the two blurred images. Thus, the difference of gaussians is equivalent to a band-pass filter that discards all but a handful of spatial frequencies that are present in the original grayscale image. \n",
    "\n",
    "## Apply the model to more difficult data\n",
    "### GANs\n",
    "* Is the model more robust to adversarial attacks (GANs)?\n",
    "* When it fails, are the stimuli more noticeable?\n",
    "* https://github.com/hindupuravinash/the-gan-zoo\n",
    "\n",
    "### Sketches\n",
    "* Are outline drawings enough?\n",
    "* Can it cope without colour?\n",
    "* $\\rightarrow$ Use Ella's SketchNet stimuli"
   ]
  },
  {
   "cell_type": "code",
   "execution_count": null,
   "metadata": {},
   "outputs": [],
   "source": [
    "!nvidia-smi"
   ]
  },
  {
   "cell_type": "code",
   "execution_count": null,
   "metadata": {},
   "outputs": [],
   "source": []
  },
  {
   "cell_type": "code",
   "execution_count": null,
   "metadata": {},
   "outputs": [],
   "source": []
  },
  {
   "cell_type": "markdown",
   "metadata": {},
   "source": [
    "## Plot trends across Wavelength, $\\lambda$"
   ]
  },
  {
   "cell_type": "code",
   "execution_count": null,
   "metadata": {},
   "outputs": [],
   "source": [
    "# with sns.axes_style(style='white', rc={'title.size': 48, \"font.family\": \"serif\", \"font.serif\": [\"Times\", \"Palatino\", \"serif\"]}):\n",
    "# with plt.rc_context(dict(sns.axes_style(\"white\"),\n",
    "#                          **sns.plotting_context(\"paper\", font_scale=1.25))):\n",
    "# with sns.plotting_context(context='paper', font_scale=1.25, rc={'font.size': 24, \"font.family\": \"serif\", \"font.serif\": [\"Times\", \"Palatino\", \"serif\"]}):\n",
    "# sns.set(font_scale=1.4)\n",
    "aspect = 1.3\n",
    "width = 5.5\n",
    "height = width / aspect\n",
    "g = sns.relplot(x='Wavelength', y='Accuracy', row='Bandwidth', col='Noise', hue='Condition', \n",
    "                kind='line', data=recomb_scores, palette=[*palette[:3], palette[7]], aspect=aspect, height=5.2) #, height=height)  # .query(\"Bandwidth == 1.4\")\n",
    "g.set(ylim=(0,100))\n",
    "g.set_xlabels(r'$\\lambda$ [pixels]')\n",
    "g.set(xticks=lambdas)\n",
    "g.set_titles(template=r'$b$ = {row_name} | {col_name}')  # {col_var} = \n",
    "for bi, row in enumerate(g.axes):\n",
    "    for li, ax in enumerate(row):\n",
    "        ax.axhline(y=10, linestyle='--', linewidth=3, color='#e74c3c')  # e74c3c\n",
    "#         sns.lineplot(x='Lambda', y='Accuracy', hue='Noise', linewidth=3, palette=[palette[7]], ax=ax, legend=False,\n",
    "#                      data=orig_scores.query('Bandwidth == \"{}\"'.format(bandwidths[bi])))\n",
    "        ax.axvline(x=display_lam, linestyle=':', linewidth=3, color=palette[8])\n",
    "\n",
    "# plt.tight_layout()\n",
    "g.savefig(os.path.join(fig_dir, f\"sup_fig_lambda.pdf\"), bbox_inches=\"tight\")#, additional_artists=[lgd])"
   ]
  },
  {
   "cell_type": "markdown",
   "metadata": {},
   "source": [
    "## Plot trends across Bandwidth, $b$"
   ]
  },
  {
   "cell_type": "code",
   "execution_count": null,
   "metadata": {},
   "outputs": [],
   "source": [
    "g = sns.relplot(x='Bandwidth', y='Accuracy', row='Wavelength', col='Noise', hue='Condition', \n",
    "                kind='line', data=recomb_scores, palette=[*palette[:3], palette[7]], aspect=1.3)  #, height=height)\n",
    "g.set(ylim=(0,100))\n",
    "g.set(xticks=bandwidths)\n",
    "g.set_xlabels(r'$b$ [octaves]')\n",
    "g.set_titles(template=r'$\\lambda$ = {row_name} | {col_name}')  # {col_var} =\n",
    "# g.set(font_scale=3)\n",
    "# g.set(margin_titles=True)\n",
    "\n",
    "for li, row in enumerate(g.axes):\n",
    "    for bi, ax in enumerate(row):\n",
    "        ax.axhline(y=10, linestyle='--', linewidth=3, color='#e74c3c')\n",
    "#         sns.lineplot(x='Bandwidth', y='Accuracy', hue='Noise', linewidth=3, palette=[palette[7]], ax=ax, legend=False,\n",
    "#                      data=orig_scores.query('Lambda == \"{}\"'.format(lambdas[li])))\n",
    "        ax.axvline(x=display_bw, linestyle=':', linewidth=3, color=palette[8])\n",
    "\n",
    "# plt.tight_layout()\n",
    "g.savefig(os.path.join(fig_dir, f\"sup_fig_bandwidth.pdf\"), bbox_inches=\"tight\")"
   ]
  },
  {
   "cell_type": "markdown",
   "metadata": {},
   "source": [
    "## Plot $\\lambda$ trends for $b=1.4$"
   ]
  },
  {
   "cell_type": "code",
   "execution_count": null,
   "metadata": {},
   "outputs": [],
   "source": [
    "for noise in noise_types[1:]:\n",
    "    fig, ax = plt.subplots(figsize=subfig_size)  # figsize=(12, 8)\n",
    "    sns.lineplot(x='Wavelength', y='Accuracy', hue='Condition', linewidth=3, ax=ax, \n",
    "                 data=recomb_scores.query(f\"(Noise == '{noise}' or Noise == 'Original') and Bandwidth == {display_bw}\"), \n",
    "                 legend='brief', palette=[*palette[:3], palette[7]])\n",
    "    ax.set_ylim(0,100)\n",
    "    ax.axhline(y=10, linestyle='--', linewidth=3, color='#e74c3c')\n",
    "    ax.axvline(x=display_lam, linestyle=':', linewidth=3, color=palette[8])\n",
    "    ax.set_xlabel(r'$\\lambda$ [pixels]')\n",
    "    ax.set(xticks=lambdas)\n",
    "    handles, labels = ax.get_legend_handles_labels()\n",
    "    lgd = ax.legend(loc=4, framealpha=0.5, fontsize=18, frameon=True, fancybox=True, \n",
    "                    handles=handles[1:], labels=labels[1:], bbox_to_anchor=(1.0, 0.6))\n",
    "    plt.tight_layout()\n",
    "    plt.savefig(os.path.join(fig_dir, f\"{noise}_trend.pdf\"), bbox_inches=\"tight\", additional_artists=[lgd])"
   ]
  },
  {
   "cell_type": "markdown",
   "metadata": {},
   "source": [
    "## Plot bar charts for $\\lambda=5$"
   ]
  },
  {
   "cell_type": "code",
   "execution_count": null,
   "metadata": {},
   "outputs": [],
   "source": [
    "# query_string = 'Lambda == \"{}\" and Bandwidth == \"{}\"'.format(display_lam, display_bw)\n",
    "query_string = 'Wavelength == \"{}\"'.format(display_lam)\n",
    "display_data = noise_scores.query(query_string)\n",
    "for noise in noise_types[1:]:\n",
    "    fig, ax = plt.subplots(figsize=subfig_size)\n",
    "#     sns.barplot(x=\"Condition\", y=\"Accuracy\", data=display_data.query(f\"Noise == '{noise}'\"), capsize=0.2, color='grey', edgecolor=\".1\", ax=ax)\n",
    "    bp = sns.barplot(x=\"Condition\", y=\"Accuracy\", hue='Bandwidth', \n",
    "                     data=display_data.query(f\"Noise == '{noise}'\"), \n",
    "                     capsize=0.2, color='grey', edgecolor=\".1\", ax=ax)\n",
    "    # palette=(\"Greys\")\n",
    "    ax.set_ylim(0,100)\n",
    "#     ax.axhline(y=10, linestyle='--', linewidth=3, color='#e74c3c')\n",
    "    ax.hlines(10, -0.5, 2.5, linestyle='--', linewidth=3, colors='#e74c3c')\n",
    "    mean_scores = orig_scores.query(query_string).mean()\n",
    "#     ax.axhline(y=mean_scores['Accuracy'], linestyle=':', linewidth=3, color=palette[7])\n",
    "    ax.hlines(mean_scores['Accuracy'], -0.5, 2.5, linestyle=':', linewidth=3, colors=palette[7])\n",
    "    ax.set_xlabel('')\n",
    "    lgd = bp.legend(loc=1, framealpha=0.5, fontsize=18, ncol=1, frameon=True, fancybox=True, title_fontsize=18, title=\"Bandwidth\"), \n",
    "#                     handles=handles[1:], labels=labels[1:], bbox_to_anchor=(1.0, 0.65))\n",
    "    plt.tight_layout()\n",
    "    plt.savefig(os.path.join(fig_dir, f\"{noise}_display_bar.pdf\"), bbox_inches=\"tight\", additional_artists=[lgd])"
   ]
  },
  {
   "cell_type": "code",
   "execution_count": null,
   "metadata": {},
   "outputs": [],
   "source": [
    "query_string = 'Wavelength == \"{}\" and Bandwidth == \"{}\"'.format(display_lam, display_bw)\n",
    "display_data = noise_scores.query(query_string)\n",
    "ax = sns.barplot(x=\"Noise\", y=\"Accuracy\", hue=\"Condition\", \n",
    "                 data=display_data, capsize=0.2, palette=(\"Greys\"), edgecolor=\".1\",)\n",
    "ax.set_ylim(0,100)\n",
    "ax.axhline(y=10, xmin=0.02, xmax=0.98, linestyle='--', linewidth=3, color='#e74c3c')\n",
    "# ax.hlines(0.1, -0.5, 2.5, linestyle='--', linewidth=3, colors='#e74c3c')\n",
    "mean_scores = orig_scores.query(query_string).mean()\n",
    "# ax.axhline(y=mean_scores['Accuracy'], linestyle=':', linewidth=3, color=palette[7])\n",
    "ax.hlines(mean_scores['Accuracy'], -0.5, 2.5, linestyle=':', linewidth=3, colors=palette[7])"
   ]
  },
  {
   "cell_type": "code",
   "execution_count": null,
   "metadata": {},
   "outputs": [],
   "source": [
    "orig_scores.query(query_string)"
   ]
  },
  {
   "cell_type": "code",
   "execution_count": null,
   "metadata": {},
   "outputs": [],
   "source": []
  }
 ],
 "metadata": {
  "kernelspec": {
   "display_name": "Python 3",
   "language": "python",
   "name": "python3"
  },
  "language_info": {
   "codemirror_mode": {
    "name": "ipython",
    "version": 3
   },
   "file_extension": ".py",
   "mimetype": "text/x-python",
   "name": "python",
   "nbconvert_exporter": "python",
   "pygments_lexer": "ipython3",
   "version": "3.6.7"
  }
 },
 "nbformat": 4,
 "nbformat_minor": 4
}
