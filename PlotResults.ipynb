{
 "cells": [
  {
   "cell_type": "markdown",
   "metadata": {},
   "source": [
    "# Plot results"
   ]
  },
  {
   "cell_type": "code",
   "execution_count": 45,
   "metadata": {},
   "outputs": [],
   "source": [
    "import os\n",
    "import numpy as np\n",
    "\n",
    "# Set parameters\n",
    "project_root = os.path.realpath(os.pardir)\n",
    "data_set = 'pixel'\n",
    "# stimulus_sets = ['jitter', 'static']  # 'static'\n",
    "start_trial = 1\n",
    "num_trials = 5\n",
    "# lambdas = [4, 8, 16]\n",
    "lambdas = [3, 4, 5, 6, 7, 8]\n",
    "# sigmas = [2, 4, 8]\n",
    "bandwidths = np.linspace(1, 1.8, num=3)\n",
    "\n",
    "epochs = 20\n",
    "save_loss = 0\n",
    "data_augmentation = 0\n",
    "fresh_data = 0\n",
    "n_gpus = 1"
   ]
  },
  {
   "cell_type": "code",
   "execution_count": 46,
   "metadata": {},
   "outputs": [],
   "source": [
    "def calc_bandwidth(lambd, sigma):\n",
    "    r = np.pi*sigma/lambd\n",
    "    c = np.sqrt(np.log(2)/2)\n",
    "    return np.log2((r + c)/(r - c))\n",
    "\n",
    "def calc_sigma(lambd, bandwidth):\n",
    "    p = 2**bandwidth\n",
    "    c = np.sqrt(np.log(2)/2)\n",
    "    return lambd * c / np.pi  * (p + 1) / (p - 1)"
   ]
  },
  {
   "cell_type": "code",
   "execution_count": 47,
   "metadata": {},
   "outputs": [],
   "source": [
    "# Load accuracy scores and plot\n",
    "%matplotlib inline\n",
    "import json\n",
    "import pandas as pd\n",
    "import numpy as np\n",
    "from matplotlib import pyplot as plt\n",
    "import seaborn as sns\n",
    "\n",
    "\n",
    "# data_set = 'pixel'\n",
    "stimulus_set = 'jitter'  # 'static'  # 'jitter'\n",
    "noise_types = ['Original', 'Salt-and-pepper', 'Additive', 'Single-pixel']  # 'Original'\n",
    "test_conditions = ['Same', 'Diff', 'NoPix']\n",
    "results_dir = os.path.join(project_root, 'results', data_set, stimulus_set)\n",
    "\n",
    "rows = []\n",
    "test_rows = []\n",
    "\n",
    "# for stimulus_set in stimulus_sets:\n",
    "for trial in range(1, 1+num_trials):\n",
    "    for noise_type in noise_types:\n",
    "        for lambd in lambdas:\n",
    "            for bandwidth in bandwidths:\n",
    "#             for sigma in sigmas:\n",
    "                sigma = calc_sigma(lambd, bandwidth)\n",
    "\n",
    "                trial_label = f\"{trial}_sigma={sigma:.2}_lambd={lambd}\"\n",
    "                model_name = f\"{noise_type}_{trial_label}\"\n",
    "                # print(model_name)\n",
    "\n",
    "                acc_scores = np.load(os.path.join(results_dir, f'{model_name}_ACC.npy'))\n",
    "                valacc_scores = np.load(os.path.join(results_dir, f'{model_name}_VALACC.npy'))\n",
    "                if save_loss:\n",
    "                    loss = np.load(os.path.join(results_dir, f'{model_name}_LOSS.npy'))\n",
    "                    valloss = np.load(os.path.join(results_dir, f'{model_name}_VALLOSS.npy'))\n",
    "                else:\n",
    "                    loss = np.zeros(epochs)\n",
    "                    valloss = np.zeros(epochs)\n",
    "\n",
    "                with open(os.path.join(results_dir, f'{model_name}_CONDVALACC.json'), \"r\") as jf:\n",
    "                    cond_acc = json.load(jf)\n",
    "                if save_loss:\n",
    "                    with open(os.path.join(results_dir, f'{model_name}_CONDVALLOSS.json'), \"r\") as jf:\n",
    "                        cond_loss = json.load(jf)\n",
    "                else:\n",
    "                    cond_loss = {condition: 0 for condition in test_conditions}\n",
    "\n",
    "                for condition in test_conditions:\n",
    "                    test_rows.append({'Trial': trial, 'Noise Type': noise_type,\n",
    "                                     'Condition': condition, 'Sigma': sigma, 'Lambda': lambd, 'Bandwidth': bandwidth,\n",
    "                                      'Loss': cond_loss[condition], 'Accuracy': cond_acc[condition]})\n",
    "                for epoch in range(epochs):\n",
    "                    rows.append({'Trial': trial, 'Noise Type': noise_type, 'Sigma': sigma, 'Lambda': lambd, 'Bandwidth': bandwidth,\n",
    "                                 'Evaluation': 'Testing', 'Epoch': epoch+1, 'Loss': valloss[epoch], \n",
    "                                 'Accuracy': valacc_scores[epoch]})\n",
    "\n",
    "                    rows.append({'Trial': trial, 'Noise Type': noise_type, 'Sigma': sigma, 'Lambda': lambd, 'Bandwidth': bandwidth,\n",
    "                                 'Evaluation': 'Training', 'Epoch': epoch+1, 'Loss': loss[epoch], \n",
    "                                 'Accuracy': acc_scores[epoch]})\n",
    "\n",
    "scores = pd.DataFrame(rows, columns=['Trial', 'Noise Type', 'Evaluation', 'Sigma', 'Lambda', 'Bandwidth', 'Epoch', 'Loss', 'Accuracy'])\n",
    "test_scores = pd.DataFrame(test_rows, columns=['Trial', 'Noise Type', 'Condition', 'Sigma', 'Lambda', 'Bandwidth', 'Loss', 'Accuracy'])\n",
    "# scores\n",
    "# test_scores"
   ]
  },
  {
   "cell_type": "code",
   "execution_count": null,
   "metadata": {},
   "outputs": [],
   "source": [
    "# g = sns.catplot(x=\"Condition\", y=\"Accuracy\", row='Lambda', col='Sigma', hue=\"Noise Type\", kind=\"bar\", data=test_scores)\n",
    "g = sns.catplot(x=\"Noise Type\", y=\"Accuracy\", row='Bandwidth', col='Lambda', hue=\"Condition\", kind=\"bar\", data=test_scores)"
   ]
  },
  {
   "cell_type": "code",
   "execution_count": null,
   "metadata": {},
   "outputs": [],
   "source": []
  }
 ],
 "metadata": {
  "kernelspec": {
   "display_name": "Python 3",
   "language": "python",
   "name": "python3"
  },
  "language_info": {
   "codemirror_mode": {
    "name": "ipython",
    "version": 3
   },
   "file_extension": ".py",
   "mimetype": "text/x-python",
   "name": "python",
   "nbconvert_exporter": "python",
   "pygments_lexer": "ipython3",
   "version": "3.6.7"
  }
 },
 "nbformat": 4,
 "nbformat_minor": 4
}
