{
 "cells": [
  {
   "cell_type": "markdown",
   "metadata": {},
   "source": [
    "# Plot results"
   ]
  },
  {
   "cell_type": "code",
   "execution_count": null,
   "metadata": {},
   "outputs": [],
   "source": [
    "import os\n",
    "\n",
    "# Set parameters\n",
    "project_root = os.path.realpath(os.pardir)\n",
    "data_set = 'pixel'\n",
    "stimulus_sets = ['jitter', 'static']  # 'static'\n",
    "start_trial = 1\n",
    "num_trials = 5\n",
    "lambdas = [4, 8, 16, 32, 64]\n",
    "\n",
    "epochs = 20\n",
    "data_augmentation = 0\n",
    "fresh_data = 0\n",
    "n_gpus = 1"
   ]
  },
  {
   "cell_type": "code",
   "execution_count": null,
   "metadata": {},
   "outputs": [],
   "source": [
    "# Load accuracy scores and plot\n",
    "%matplotlib inline\n",
    "import json\n",
    "import pandas as pd\n",
    "import numpy as np\n",
    "from matplotlib import pyplot as plt\n",
    "import seaborn as sns\n",
    "\n",
    "\n",
    "# data_set = 'pixel'\n",
    "stimulus_set = 'jitter'  # 'static'  # 'jitter'\n",
    "noise_types = ['Original', 'Salt-and-pepper', 'Additive', 'Single-pixel']  # 'Original'\n",
    "test_conditions = ['Same', 'Diff', 'NoPix']\n",
    "results_dir = os.path.join(project_root, 'results', data_set, stimulus_set)\n",
    "\n",
    "rows = []\n",
    "test_rows = []\n",
    "\n",
    "# for stimulus_set in stimulus_sets:\n",
    "for trial in range(1, 1+num_trials):\n",
    "    for noise_type in noise_types:\n",
    "        for lambd in lambdas:\n",
    "\n",
    "            trial_label = f\"{trial}_lambd={lambd}\"\n",
    "            model_name = f\"{noise_type}_{trial_label}\"\n",
    "\n",
    "            acc_scores = np.load(os.path.join(results_dir, f'{model_name}_ACC.npy'))\n",
    "            valacc_scores = np.load(os.path.join(results_dir, f'{model_name}_VALACC.npy'))\n",
    "            loss = np.load(os.path.join(results_dir, f'{model_name}_LOSS.npy'))\n",
    "            valloss = np.load(os.path.join(results_dir, f'{model_name}_VALLOSS.npy'))\n",
    "\n",
    "            with open(os.path.join(results_dir, f'{model_name}_CONDVALACC.json'), \"r\") as jf:\n",
    "                cond_acc = json.load(jf)\n",
    "            with open(os.path.join(results_dir, f'{model_name}_CONDVALLOSS.json'), \"r\") as jf:\n",
    "                cond_loss = json.load(jf)\n",
    "\n",
    "            for condition in test_conditions:\n",
    "                test_rows.append({'Trial': trial, 'Noise Type': noise_type,\n",
    "                                 'Condition': condition, 'Lambda': lambd,\n",
    "                                  'Loss': cond_loss[condition], 'Accuracy': cond_acc[condition]})\n",
    "            for epoch in range(epochs):\n",
    "                rows.append({'Trial': trial, 'Noise Type': noise_type, 'Lambda': lambd, \n",
    "                             'Evaluation': 'Testing', 'Epoch': epoch+1, 'Loss': valloss[epoch], \n",
    "                             'Accuracy': valacc_scores[epoch]})\n",
    "\n",
    "                rows.append({'Trial': trial, 'Noise Type': noise_type, 'Lambda': lambd, \n",
    "                             'Evaluation': 'Training', 'Epoch': epoch+1, 'Loss': loss[epoch], \n",
    "                             'Accuracy': acc_scores[epoch]})\n",
    "\n",
    "scores = pd.DataFrame(rows, columns=['Trial', 'Noise Type', 'Evaluation', 'Lambda', 'Epoch', 'Loss', 'Accuracy'])\n",
    "test_scores = pd.DataFrame(test_rows, columns=['Trial', 'Noise Type', 'Condition', 'Lambda', 'Loss', 'Accuracy'])\n",
    "# scores\n",
    "# test_scores"
   ]
  },
  {
   "cell_type": "code",
   "execution_count": null,
   "metadata": {},
   "outputs": [],
   "source": [
    "g = sns.catplot(x=\"Condition\", y=\"Accuracy\", row='Lambda', col=\"Noise Type\", kind=\"bar\", data=test_scores)"
   ]
  },
  {
   "cell_type": "code",
   "execution_count": null,
   "metadata": {},
   "outputs": [],
   "source": []
  }
 ],
 "metadata": {
  "kernelspec": {
   "display_name": "Python 3",
   "language": "python",
   "name": "python3"
  },
  "language_info": {
   "codemirror_mode": {
    "name": "ipython",
    "version": 3
   },
   "file_extension": ".py",
   "mimetype": "text/x-python",
   "name": "python",
   "nbconvert_exporter": "python",
   "pygments_lexer": "ipython3",
   "version": "3.6.8"
  }
 },
 "nbformat": 4,
 "nbformat_minor": 2
}
