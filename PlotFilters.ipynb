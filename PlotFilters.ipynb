{
 "cells": [
  {
   "cell_type": "code",
   "execution_count": null,
   "metadata": {},
   "outputs": [],
   "source": [
    "%matplotlib inline\n",
    "import keras\n",
    "from keras import backend as K\n",
    "from keras.preprocessing import image\n",
    "import tensorflow as tf\n",
    "from matplotlib import pyplot as plt\n",
    "import cv2\n",
    "import numpy as np"
   ]
  },
  {
   "cell_type": "code",
   "execution_count": null,
   "metadata": {},
   "outputs": [],
   "source": [
    "image_path = \"/workspace/data/Lenna.png\"\n",
    "# img = image.load_img(image_path)\n",
    "img = plt.imread(image_path)\n",
    "print(img.shape)\n",
    "img = cv2.cvtColor(img, cv2.COLOR_BGR2GRAY)\n",
    "print(type(img))\n",
    "img = K.expand_dims(img, 0)\n",
    "img = K.expand_dims(img, -1)\n",
    "print(img.shape)\n",
    "\n",
    "# ksize is the size of the Gabor kernel. If ksize = (a, b), we then have a Gabor kernel of size a x b pixels. As with many other convolution kernels, ksize is preferably odd and the kernel is a square (just for the sake of uniformity).\n",
    "# sigma is the standard deviation of the Gaussian function used in the Gabor filter.\n",
    "# theta is the orientation of the normal to the parallel stripes of the Gabor function.\n",
    "# lambda is the wavelength of the sinusoidal factor in the above equation.\n",
    "# gamma is the spatial aspect ratio.\n",
    "# psi is the phase offset.\n",
    "# ktype indicates the type and range of values that each pixel in the Gabor kernel can hold.\n",
    "\n",
    "sizes = [(25, 25)]  # [(5, 5), (15, 15), (25, 25)]\n",
    "sigmas = [2, 4]\n",
    "thetas = np.linspace(0, 2*np.pi, 8, endpoint=False)  # [0, np.pi/4, np.pi/2, np.pi*3/4]\n",
    "lambdas = [4, 8, 16]\n",
    "psi = np.pi/2\n",
    "gamma = 0.5\n",
    "\n",
    "ncols = len(thetas)\n",
    "nrows = int(np.ceil(2*len(sizes)*len(sigmas)*len(thetas)*len(lambdas)/ncols))\n",
    "width = 24\n",
    "\n",
    "# sess = tf.InteractiveSession()\n",
    "fig, axes = plt.subplots(nrows=nrows, ncols=ncols, sharex='row', sharey='row', figsize=(width, width*nrows/ncols))\n",
    "i = 0\n",
    "for sz, size in enumerate(sizes):\n",
    "    for sg, sigma in enumerate(sigmas):\n",
    "        for lm, lambd in enumerate(lambdas):\n",
    "            for th, theta in enumerate(thetas):\n",
    "            \n",
    "                params = {'ksize': size, 'sigma': sigma, 'theta': theta, 'lambd': lambd, 'gamma': gamma, 'psi': psi}\n",
    "                gf = cv2.getGaborKernel(**params, ktype=cv2.CV_32F)\n",
    "\n",
    "                row, col = 2*(i//ncols), i%ncols\n",
    "                axes[row, col].imshow(gf, cmap='gray')\n",
    "                axes[row, col].set_xticks([])\n",
    "                axes[row, col].set_yticks([])\n",
    "\n",
    "                if i//wrap == 0:\n",
    "                    ax.set_title(r\"$\\theta = {:.3}\\pi$\".format(theta/np.pi))\n",
    "                if i%wrap == 0:\n",
    "                    ax.set_ylabel(r\"$\\lambda = {}, \\sigma = {}$\".format(lambd, sigma))\n",
    "\n",
    "                gf = K.expand_dims(gf, -1)\n",
    "                gf = K.expand_dims(gf, -1)\n",
    "                # https://stackoverflow.com/questions/34619177/what-does-tf-nn-conv2d-do-in-tensorflow\n",
    "                # K.conv2d(image.img_to_array(img), gf)\n",
    "                fimg = K.conv2d(img, gf, padding='same')\n",
    "                axes[row+1, col].imshow(tf.Session().run(fimg[0,:,:,0]), cmap='gray')\n",
    "                # axes[row+1, col].imshow(fimg[0,:,:,0].eval(), cmap='gray')\n",
    "                axes[row+1, col].set_xticks([])\n",
    "                axes[row+1, col].set_yticks([])\n",
    "                i += 1"
   ]
  },
  {
   "cell_type": "code",
   "execution_count": null,
   "metadata": {},
   "outputs": [],
   "source": [
    "image_path = \"/workspace/data/Lenna.png\"\n",
    "image.load_img(image_path)"
   ]
  },
  {
   "cell_type": "code",
   "execution_count": null,
   "metadata": {},
   "outputs": [],
   "source": []
  }
 ],
 "metadata": {
  "kernelspec": {
   "display_name": "Python 3",
   "language": "python",
   "name": "python3"
  },
  "language_info": {
   "codemirror_mode": {
    "name": "ipython",
    "version": 3
   },
   "file_extension": ".py",
   "mimetype": "text/x-python",
   "name": "python",
   "nbconvert_exporter": "python",
   "pygments_lexer": "ipython3",
   "version": "3.6.8"
  }
 },
 "nbformat": 4,
 "nbformat_minor": 2
}
