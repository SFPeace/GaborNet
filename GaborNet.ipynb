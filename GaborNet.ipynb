{
 "cells": [
  {
   "cell_type": "markdown",
   "metadata": {},
   "source": [
    "# VGG16 with Gabor filters"
   ]
  },
  {
   "cell_type": "code",
   "execution_count": null,
   "metadata": {},
   "outputs": [],
   "source": [
    "from keras.applications.vgg16 import VGG16\n",
    "weights = None  # 'imagenet'\n",
    "input_shape = (224, 224, 3)  # (224, 224, 16)\n",
    "classes = 10\n",
    "model = VGG16(include_top=True, weights=weights, input_tensor=None, input_shape=input_shape, pooling=None, classes=classes)"
   ]
  },
  {
   "cell_type": "code",
   "execution_count": null,
   "metadata": {},
   "outputs": [],
   "source": [
    "model.summary()"
   ]
  },
  {
   "cell_type": "code",
   "execution_count": null,
   "metadata": {},
   "outputs": [],
   "source": [
    "from keras.layers import InputLayer\n",
    "model.layers.pop(0)\n",
    "gabor_input = InputLayer(input_shape=(224, 224, 32))\n",
    "gabor_output = model(gabor_input)\n",
    "gabor_model = Model(gabor_input, gabor_output)"
   ]
  },
  {
   "cell_type": "markdown",
   "metadata": {},
   "source": [
    "# Run GaborNet"
   ]
  },
  {
   "cell_type": "code",
   "execution_count": null,
   "metadata": {},
   "outputs": [],
   "source": [
    "import os\n",
    "\n",
    "# Set parameters\n",
    "project_root = os.path.realpath(os.pardir)\n",
    "data_set = 'pixel'\n",
    "stimulus_sets = ['jitter', 'static']  # 'static'\n",
    "start_trial = 1\n",
    "num_trials = 5\n",
    "lambdas = [4, 8, 16, 32, 64]\n",
    "\n",
    "epochs = 20\n",
    "data_augmentation = 0\n",
    "fresh_data = 0\n",
    "n_gpus = 1"
   ]
  },
  {
   "cell_type": "code",
   "execution_count": null,
   "metadata": {},
   "outputs": [],
   "source": [
    "import os\n",
    "from tqdm import tqdm_notebook\n",
    "\n",
    "for stimulus_set in tqdm_notebook(stimulus_sets, desc=\"Set\"):\n",
    "    for trial in tqdm_notebook(range(start_trial, num_trials+1), desc='Trial'):\n",
    "        for lambd in tqdm_notebook(lambdas, desc='$\\lambda$', leave=True):\n",
    "            trial_label = f\"{trial}_lambd={lambd}\"\n",
    "            args = (f\"--data_set {data_set} --stimulus_set {stimulus_set} \"\n",
    "                    f\"--trial_label {trial_label} --lambd {lambd} \"\n",
    "                    f\"--data_augmentation {data_augmentation} --fresh_data {fresh_data} \"\n",
    "                    f\"--n_gpus {n_gpus} --epochs {epochs}\")  #  --model_name {model_name}\n",
    "            os.system(f'python3 gabornet.py {args}')"
   ]
  },
  {
   "cell_type": "markdown",
   "metadata": {},
   "source": [
    "# Plot performance"
   ]
  },
  {
   "cell_type": "code",
   "execution_count": null,
   "metadata": {},
   "outputs": [],
   "source": [
    "# Load accuracy scores and plot\n",
    "%matplotlib inline\n",
    "import json\n",
    "import pandas as pd\n",
    "import numpy as np\n",
    "from matplotlib import pyplot as plt\n",
    "import seaborn as sns\n",
    "\n",
    "\n",
    "# data_set = 'pixel'\n",
    "stimulus_set = 'jitter'  # 'static'  # 'jitter'\n",
    "noise_types = ['Original', 'Salt-and-pepper', 'Additive', 'Single-pixel']  # 'Original'\n",
    "test_conditions = ['Same', 'Diff', 'NoPix']\n",
    "results_dir = os.path.join(project_root, 'results', data_set, stimulus_set)\n",
    "\n",
    "rows = []\n",
    "test_rows = []\n",
    "\n",
    "# for stimulus_set in stimulus_sets:\n",
    "for trial in range(1, 1+num_trials):\n",
    "    for noise_type in noise_types:\n",
    "        for lambd in lambdas:\n",
    "\n",
    "            trial_label = f\"{trial}_lambd={lambd}\"\n",
    "            model_name = f\"{noise_type}_{trial_label}\"\n",
    "\n",
    "            acc_scores = np.load(os.path.join(results_dir, f'{model_name}_ACC.npy'))\n",
    "            valacc_scores = np.load(os.path.join(results_dir, f'{model_name}_VALACC.npy'))\n",
    "            loss = np.load(os.path.join(results_dir, f'{model_name}_LOSS.npy'))\n",
    "            valloss = np.load(os.path.join(results_dir, f'{model_name}_VALLOSS.npy'))\n",
    "\n",
    "            with open(os.path.join(results_dir, f'{model_name}_CONDVALACC.json'), \"r\") as jf:\n",
    "                cond_acc = json.load(jf)\n",
    "            with open(os.path.join(results_dir, f'{model_name}_CONDVALLOSS.json'), \"r\") as jf:\n",
    "                cond_loss = json.load(jf)\n",
    "\n",
    "            for condition in test_conditions:\n",
    "                test_rows.append({'Trial': trial, 'Noise Type': noise_type,\n",
    "                                 'Condition': condition, 'Lambda': lambd,\n",
    "                                  'Loss': cond_loss[condition], 'Accuracy': cond_acc[condition]})\n",
    "            for epoch in range(epochs):\n",
    "                rows.append({'Trial': trial, 'Noise Type': noise_type, 'Lambda': lambd, \n",
    "                             'Evaluation': 'Testing', 'Epoch': epoch+1, 'Loss': valloss[epoch], \n",
    "                             'Accuracy': valacc_scores[epoch]})\n",
    "\n",
    "                rows.append({'Trial': trial, 'Noise Type': noise_type, 'Lambda': lambd, \n",
    "                             'Evaluation': 'Training', 'Epoch': epoch+1, 'Loss': loss[epoch], \n",
    "                             'Accuracy': acc_scores[epoch]})\n",
    "\n",
    "scores = pd.DataFrame(rows, columns=['Trial', 'Noise Type', 'Evaluation', 'Lambda', 'Epoch', 'Loss', 'Accuracy'])\n",
    "test_scores = pd.DataFrame(test_rows, columns=['Trial', 'Noise Type', 'Condition', 'Lambda', 'Loss', 'Accuracy'])\n",
    "# scores\n",
    "# test_scores"
   ]
  },
  {
   "cell_type": "code",
   "execution_count": null,
   "metadata": {},
   "outputs": [],
   "source": [
    "test_scores"
   ]
  },
  {
   "cell_type": "code",
   "execution_count": null,
   "metadata": {},
   "outputs": [],
   "source": [
    "# fig = plt.figure()\n",
    "# g = sns.relplot(x='Epoch', y='Accuracy', style='Retina Out Width', hue='Evaluation', row='VVS Layers', col='Noise Type', kind='line', data=scores)\n",
    "g = sns.relplot(x='Epoch', y='Accuracy', hue='Evaluation', row='Lambda', col='Noise Type', kind='line', data=scores)\n",
    "# g = sns.relplot(x='Epoch', y='Loss', style='Retina Out Width', hue='Evaluation', row='VVS Layers', col='Noise Type', kind='line', data=scores)"
   ]
  },
  {
   "cell_type": "code",
   "execution_count": null,
   "metadata": {},
   "outputs": [],
   "source": [
    "fig = plt.figure(figsize=(16,6))\n",
    "# g = sns.catplot(x=\"Condition\", y=\"Accuracy\", hue=\"Retina Out Width\", row=\"VVS Layers\", col=\"Noise Type\", kind=\"bar\", data=test_scores)\n",
    "g = sns.catplot(x=\"Condition\", y=\"Accuracy\", row='Lambda', col=\"Noise Type\", kind=\"bar\", data=test_scores)\n",
    "# g = sns.catplot(x=\"Condition\", y=\"Loss\", hue=\"Retina Out Width\", row=\"VVS Layers\", col=\"Noise Type\", kind=\"bar\", data=test_scores)"
   ]
  },
  {
   "cell_type": "code",
   "execution_count": null,
   "metadata": {},
   "outputs": [],
   "source": []
  },
  {
   "cell_type": "code",
   "execution_count": null,
   "metadata": {},
   "outputs": [],
   "source": []
  },
  {
   "cell_type": "code",
   "execution_count": null,
   "metadata": {},
   "outputs": [],
   "source": [
    "# from keras.layers import InputLayer\n",
    "model.layers.pop(1)  # First convolutional layer\n",
    "gabor_input = InputLayer(input_shape=(224, 224, 32))\n",
    "gabor_output = model(gabor_input)\n",
    "gabor_model = Model(gabor_input, gabor_output)"
   ]
  },
  {
   "cell_type": "code",
   "execution_count": null,
   "metadata": {},
   "outputs": [],
   "source": [
    "from matplotlib import pyplot as plt\n",
    "# import cv2\n",
    "# from keras import backend as K\n",
    "# import numpy as np\n",
    "\n",
    "image_path = \"/workspace/data/Lenna.png\"\n",
    "# img = image.load_img(image_path)\n",
    "img = plt.imread(image_path)\n",
    "print(img.shape)\n",
    "img = cv2.cvtColor(img, cv2.COLOR_BGR2GRAY)\n",
    "print(type(img))\n",
    "img = K.expand_dims(img, 0)\n",
    "img = K.expand_dims(img, -1)\n",
    "\n",
    "gabor_filter(img, kernel_tensor=gft)"
   ]
  },
  {
   "cell_type": "code",
   "execution_count": null,
   "metadata": {},
   "outputs": [],
   "source": [
    "import tensorflow as tf\n",
    "with tf.Session().as_default():\n",
    "    plt.imshow(gabor_filter(img, kernel_tensor=gft).eval()[0,:,:,-1])"
   ]
  },
  {
   "cell_type": "code",
   "execution_count": null,
   "metadata": {},
   "outputs": [],
   "source": [
    "type(gabor_filters)"
   ]
  },
  {
   "cell_type": "code",
   "execution_count": null,
   "metadata": {},
   "outputs": [],
   "source": [
    "from keras.utils.vis_utils import plot_model\n",
    "plot_model(model, to_file='vgg.png')"
   ]
  },
  {
   "cell_type": "code",
   "execution_count": null,
   "metadata": {},
   "outputs": [],
   "source": []
  }
 ],
 "metadata": {
  "kernelspec": {
   "display_name": "Python 3",
   "language": "python",
   "name": "python3"
  },
  "language_info": {
   "codemirror_mode": {
    "name": "ipython",
    "version": 3
   },
   "file_extension": ".py",
   "mimetype": "text/x-python",
   "name": "python",
   "nbconvert_exporter": "python",
   "pygments_lexer": "ipython3",
   "version": "3.6.8"
  }
 },
 "nbformat": 4,
 "nbformat_minor": 2
}
