{
 "cells": [
  {
   "cell_type": "markdown",
   "metadata": {},
   "source": [
    "# VGG16 with Gabor filters"
   ]
  },
  {
   "cell_type": "code",
   "execution_count": null,
   "metadata": {},
   "outputs": [],
   "source": [
    "from keras.applications.vgg16 import VGG16\n",
    "weights = None  # 'imagenet'\n",
    "input_shape = (224, 224, 3)  # (224, 224, 16)\n",
    "classes = 10\n",
    "model = VGG16(include_top=True, weights=weights, input_tensor=None, input_shape=input_shape, pooling=None, classes=classes)"
   ]
  },
  {
   "cell_type": "code",
   "execution_count": null,
   "metadata": {},
   "outputs": [],
   "source": [
    "model.summary()"
   ]
  },
  {
   "cell_type": "code",
   "execution_count": null,
   "metadata": {},
   "outputs": [],
   "source": [
    "from keras.layers import InputLayer\n",
    "model.layers.pop(0)\n",
    "gabor_input = InputLayer(input_shape=(224, 224, 32))\n",
    "gabor_output = model(gabor_input)\n",
    "gabor_model = Model(gabor_input, gabor_output)"
   ]
  },
  {
   "cell_type": "code",
   "execution_count": null,
   "metadata": {},
   "outputs": [],
   "source": []
  },
  {
   "cell_type": "code",
   "execution_count": null,
   "metadata": {},
   "outputs": [],
   "source": [
    "lambdas = [3, 4, 5, 6, 7, 8]  # 3 <= lambd <= W/2\n",
    "sigmas = [1, 2, 3] # 4]  \n",
    "bandwidths = np.linspace(0.4, 2.6, num=3)  # ~1.5 <= bw <= ~3\n",
    "\n",
    "n_thetas = 8\n",
    "n_psis = 4  # 1, 2, 4\n",
    "n_gammas = 2\n",
    "\n",
    "gabor = {'sigmas': [sigma],\n",
    "         'lambdas': [lambd],\n",
    "         'thetas': np.linspace(0, 2*np.pi, n_thetas, endpoint=False),        \n",
    "         'psis': np.linspace(0, 2*np.pi, n_psis, endpoint=False),\n",
    "         'gammas': np.linspace(1, 0, n_gammas, endpoint=False),\n",
    "         'ksize': (31, 31),\n",
    "        }"
   ]
  },
  {
   "cell_type": "code",
   "execution_count": null,
   "metadata": {},
   "outputs": [],
   "source": [
    "conda install opencv"
   ]
  },
  {
   "cell_type": "code",
   "execution_count": null,
   "metadata": {},
   "outputs": [],
   "source": [
    "import cv2"
   ]
  },
  {
   "cell_type": "markdown",
   "metadata": {},
   "source": [
    "# Run GaborNet"
   ]
  },
  {
   "cell_type": "code",
   "execution_count": null,
   "metadata": {},
   "outputs": [],
   "source": [
    "import os\n",
    "import numpy as np\n",
    "\n",
    "def calc_bandwidth(lambd, sigma):\n",
    "    r = np.pi*sigma/lambd\n",
    "    c = np.sqrt(np.log(2)/2)\n",
    "    return np.log2((r + c)/(r - c))\n",
    "\n",
    "def calc_sigma(lambd, bandwidth):\n",
    "    p = 2**bandwidth\n",
    "    c = np.sqrt(np.log(2)/2)\n",
    "    return lambd * c / np.pi  * (p + 1) / (p - 1)\n",
    "\n",
    "def calc_lambda(sigma, bandwidth):\n",
    "    p = 2**bandwidth\n",
    "    c = np.sqrt(np.log(2)/2)\n",
    "    return sigma * np.pi / c  * (p - 1) / (p + 1)\n",
    "\n",
    "# Set parameters\n",
    "project_root = os.path.realpath(os.pardir)\n",
    "data_set = 'pixel'\n",
    "# stimulus_sets = ['static', 'jitter']\n",
    "stimulus_set = 'jitter'\n",
    "start_trial = 1\n",
    "num_trials = 5\n",
    "# lambdas = [3, 4, 5, 6, 7, 8]\n",
    "# lambdas = [4, 8, 16]\n",
    "# sigmas = [2, 4, 8]\n",
    "# bandwidths = np.linspace(1, 1.8, num=3)\n",
    "\n",
    "# sigmas = [1, 2, 3, 4, 5]\n",
    "# sigmas = [1.1, 1.2, 1.3, 1.4, 1.5, 1.6, 1.7, 1.8, 1.9, 2.1, 2.2, 2.3, 2.4, 2.5]\n",
    "# sigmas = [1.1, 1.3, 1.5, 1.7, 1.9, 2.1, 2.3, 2.5, 2.7, 2.9]\n",
    "# sigmas = [1.2, 1.4, 1.6, 1.8, 2.2, 2.4, 2.6, 2.8]\n",
    "sigmas = [1.5, 2.5, 3.5, 4.5]\n",
    "bandwidths = np.linspace(1, 1.8, num=5)\n",
    "\n",
    "epochs = 20\n",
    "save_loss = 0\n",
    "data_augmentation = 0\n",
    "fresh_data = 0\n",
    "n_gpus = 1"
   ]
  },
  {
   "cell_type": "code",
   "execution_count": null,
   "metadata": {},
   "outputs": [],
   "source": [
    "import os\n",
    "from tqdm import tqdm_notebook\n",
    "\n",
    "# for stimulus_set in tqdm_notebook(stimulus_sets, desc=\"Set\"):\n",
    "# for bandwidth in tqdm_notebook(bandwidths, desc='$b$', leave=True):\n",
    "for trial in tqdm_notebook(range(start_trial, start_trial+num_trials), desc='Trial'):\n",
    "    for sigma in tqdm_notebook(sigmas, desc='$\\sigma$', leave=True):\n",
    "        for bandwidth in tqdm_notebook(bandwidths, desc='$b$', leave=False):\n",
    "#         for lambd in tqdm_notebook(lambdas, desc='$\\lambda$', leave=True):\n",
    "#             sigma = calc_sigma(lambd, bandwidth)\n",
    "            lambd = calc_lambda(sigma, bandwidth)\n",
    "            trial_label = f\"{trial}_sigma={float(sigma):.2}_lambd={float(lambd):.2}\"\n",
    "            args = (f\"--data_set {data_set} --stimulus_set {stimulus_set} \"\n",
    "                    f\"--trial_label {trial_label} --sigma {sigma} --lambd {lambd} \"\n",
    "                    f\"--data_augmentation {data_augmentation} --fresh_data {fresh_data} \"\n",
    "                    f\"--n_gpus {n_gpus} --epochs {epochs} --save_loss {save_loss}\")  #  --model_name {model_name}\n",
    "            os.system(f'python3 gabornet.py {args}')"
   ]
  },
  {
   "cell_type": "code",
   "execution_count": null,
   "metadata": {},
   "outputs": [],
   "source": [
    "calc_lambda(1.5, 1)"
   ]
  },
  {
   "cell_type": "code",
   "execution_count": null,
   "metadata": {},
   "outputs": [],
   "source": [
    "len('')"
   ]
  },
  {
   "cell_type": "code",
   "execution_count": null,
   "metadata": {},
   "outputs": [],
   "source": [
    "import os\n",
    "import subprocess\n",
    "from tqdm import tqdm_notebook\n",
    "\n",
    "# Set parameters\n",
    "project_root = os.path.realpath(os.pardir)\n",
    "filter_type = 'dog'\n",
    "data_set = 'pixel'\n",
    "stimulus_set = 'jitter'\n",
    "start_trial = 1\n",
    "num_trials = 5\n",
    "\n",
    "sigmas = [1, 2, 3, 4, 5]\n",
    "# sigmas = [1.1, 1.2, 1.3, 1.4, 1.5, 1.6, 1.7, 1.8, 1.9, 2.1, 2.2, 2.3, 2.4, 2.5]\n",
    "# sigmas = [1.1, 1.3, 1.5, 1.7, 1.9, 2.1, 2.3, 2.5, 2.7, 2.9]\n",
    "# sigmas = [1.2, 1.4, 1.6, 1.8, 2.2, 2.4, 2.6, 2.8]\n",
    "# bandwidths = np.linspace(1, 1.8, num=5)\n",
    "r_sigmas = [1.1, 1.2, 1.5, 2, 2.5, 3]\n",
    "\n",
    "epochs = 20\n",
    "save_loss = 0\n",
    "data_augmentation = 0\n",
    "fresh_data = 0\n",
    "n_gpus = 1\n",
    "\n",
    "for trial in tqdm_notebook(range(start_trial, start_trial+num_trials), desc='Trial'):\n",
    "    for sigma in tqdm_notebook(sigmas, desc='$\\sigma$', leave=True):\n",
    "        for r_sigma in tqdm_notebook(r_sigmas, desc='$r_\\sigma$', leave=False):\n",
    "            trial_label = f\"{trial}_sigma={float(sigma):.2}_r_sigma={float(r_sigma):.2}\"\n",
    "            args = (f\"--filter_type {filter_type} --data_set {data_set} --stimulus_set {stimulus_set} \"\n",
    "                    f\"--trial_label {trial_label} --sigma {sigma} --r_sigma {r_sigma} \"\n",
    "                    f\"--data_augmentation {data_augmentation} --fresh_data {fresh_data} \"\n",
    "                    f\"--n_gpus {n_gpus} --epochs {epochs} --save_loss {save_loss}\")\n",
    "#             os.system(f'python3 gabornet.py {args}')\n",
    "            subprocess.call(f'python3 gabornet.py {args}')"
   ]
  },
  {
   "cell_type": "markdown",
   "metadata": {},
   "source": [
    "## DoGnet"
   ]
  },
  {
   "cell_type": "code",
   "execution_count": null,
   "metadata": {},
   "outputs": [],
   "source": [
    "!git pull"
   ]
  },
  {
   "cell_type": "code",
   "execution_count": null,
   "metadata": {},
   "outputs": [],
   "source": [
    "import subprocess\n",
    "trial_label = \"TEST\"\n",
    "args = (f\"--filter_type {filter_type} --data_set {data_set} --stimulus_set {stimulus_set} \"\n",
    "                    f\"--trial_label {trial_label} --sigma {sigma} --r_sigma {r_sigma} \"\n",
    "                    f\"--data_augmentation {data_augmentation} --fresh_data {fresh_data} \"\n",
    "                    f\"--n_gpus {n_gpus} --epochs {epochs} --save_loss {save_loss}\")\n",
    "os.system(f'python3 gabornet.py {args}')"
   ]
  },
  {
   "cell_type": "code",
   "execution_count": null,
   "metadata": {},
   "outputs": [],
   "source": [
    "import os\n",
    "from tqdm import tqdm_notebook\n",
    "\n",
    "# Set parameters\n",
    "project_root = os.path.realpath(os.pardir)\n",
    "filter_type = 'dog'\n",
    "data_set = 'pixel'\n",
    "stimulus_set = 'jitter'\n",
    "start_trial = 1\n",
    "num_trials = 5\n",
    "\n",
    "sigmas = [1, 2, 3, 4, 5]\n",
    "# r_sigmas = [1.1, 1.2, 1.5, 2, 2.5, 3]\n",
    "r_sigmas = [1.3, 1.4, 1.6, 1.7, 1.8, 1.9]\n",
    "\n",
    "epochs = 20\n",
    "save_loss = 0\n",
    "data_augmentation = 0\n",
    "fresh_data = 0\n",
    "n_gpus = 1\n",
    "\n",
    "for trial in tqdm_notebook(range(start_trial, start_trial+num_trials), desc='Trial'):\n",
    "    for sigma in tqdm_notebook(sigmas, desc='$\\sigma$', leave=True):\n",
    "        for r_sigma in tqdm_notebook(r_sigmas, desc='$r_\\sigma$', leave=False):\n",
    "            trial_label = f\"{trial}_sigma={float(sigma):.2}_r_sigma={float(r_sigma):.2}\"\n",
    "            args = (f\"--filter_type {filter_type} --data_set {data_set} --stimulus_set {stimulus_set} \"\n",
    "                    f\"--trial_label {trial_label} --sigma {sigma} --r_sigma {r_sigma} \"\n",
    "                    f\"--data_augmentation {data_augmentation} --fresh_data {fresh_data} \"\n",
    "                    f\"--n_gpus {n_gpus} --epochs {epochs} --save_loss {save_loss}\")\n",
    "            os.system(f'python3 gabornet.py {args}')"
   ]
  },
  {
   "cell_type": "code",
   "execution_count": null,
   "metadata": {},
   "outputs": [],
   "source": []
  },
  {
   "cell_type": "markdown",
   "metadata": {},
   "source": [
    "# Plot performance"
   ]
  },
  {
   "cell_type": "code",
   "execution_count": null,
   "metadata": {},
   "outputs": [],
   "source": [
    "# Load accuracy scores and plot\n",
    "%matplotlib inline\n",
    "import json\n",
    "import pandas as pd\n",
    "import numpy as np\n",
    "from matplotlib import pyplot as plt\n",
    "import seaborn as sns\n",
    "\n",
    "\n",
    "# data_set = 'pixel'\n",
    "stimulus_set = 'jitter'  # 'static'  # 'jitter'\n",
    "noise_types = ['Original', 'Salt-and-pepper', 'Additive', 'Single-pixel']  # 'Original'\n",
    "test_conditions = ['Same', 'Diff', 'NoPix']\n",
    "results_dir = os.path.join(project_root, 'results', data_set, stimulus_set)\n",
    "\n",
    "rows = []\n",
    "test_rows = []\n",
    "\n",
    "# for stimulus_set in stimulus_sets:\n",
    "for trial in range(1, 1+num_trials):\n",
    "    for noise_type in noise_types:\n",
    "        for lambd in lambdas:\n",
    "\n",
    "            trial_label = f\"{trial}_lambd={lambd}\"\n",
    "            model_name = f\"{noise_type}_{trial_label}\"\n",
    "\n",
    "            acc_scores = np.load(os.path.join(results_dir, f'{model_name}_ACC.npy'))\n",
    "            valacc_scores = np.load(os.path.join(results_dir, f'{model_name}_VALACC.npy'))\n",
    "            loss = np.load(os.path.join(results_dir, f'{model_name}_LOSS.npy'))\n",
    "            valloss = np.load(os.path.join(results_dir, f'{model_name}_VALLOSS.npy'))\n",
    "\n",
    "            with open(os.path.join(results_dir, f'{model_name}_CONDVALACC.json'), \"r\") as jf:\n",
    "                cond_acc = json.load(jf)\n",
    "            with open(os.path.join(results_dir, f'{model_name}_CONDVALLOSS.json'), \"r\") as jf:\n",
    "                cond_loss = json.load(jf)\n",
    "\n",
    "            for condition in test_conditions:\n",
    "                test_rows.append({'Trial': trial, 'Noise Type': noise_type,\n",
    "                                 'Condition': condition, 'Lambda': lambd,\n",
    "                                  'Loss': cond_loss[condition], 'Accuracy': cond_acc[condition]})\n",
    "            for epoch in range(epochs):\n",
    "                rows.append({'Trial': trial, 'Noise Type': noise_type, 'Lambda': lambd, \n",
    "                             'Evaluation': 'Testing', 'Epoch': epoch+1, 'Loss': valloss[epoch], \n",
    "                             'Accuracy': valacc_scores[epoch]})\n",
    "\n",
    "                rows.append({'Trial': trial, 'Noise Type': noise_type, 'Lambda': lambd, \n",
    "                             'Evaluation': 'Training', 'Epoch': epoch+1, 'Loss': loss[epoch], \n",
    "                             'Accuracy': acc_scores[epoch]})\n",
    "\n",
    "scores = pd.DataFrame(rows, columns=['Trial', 'Noise Type', 'Evaluation', 'Lambda', 'Epoch', 'Loss', 'Accuracy'])\n",
    "test_scores = pd.DataFrame(test_rows, columns=['Trial', 'Noise Type', 'Condition', 'Lambda', 'Loss', 'Accuracy'])\n",
    "# scores\n",
    "# test_scores"
   ]
  },
  {
   "cell_type": "code",
   "execution_count": null,
   "metadata": {},
   "outputs": [],
   "source": [
    "test_scores"
   ]
  },
  {
   "cell_type": "code",
   "execution_count": null,
   "metadata": {},
   "outputs": [],
   "source": [
    "# fig = plt.figure()\n",
    "# g = sns.relplot(x='Epoch', y='Accuracy', style='Retina Out Width', hue='Evaluation', row='VVS Layers', col='Noise Type', kind='line', data=scores)\n",
    "g = sns.relplot(x='Epoch', y='Accuracy', hue='Evaluation', row='Lambda', col='Noise Type', kind='line', data=scores)\n",
    "# g = sns.relplot(x='Epoch', y='Loss', style='Retina Out Width', hue='Evaluation', row='VVS Layers', col='Noise Type', kind='line', data=scores)"
   ]
  },
  {
   "cell_type": "code",
   "execution_count": null,
   "metadata": {},
   "outputs": [],
   "source": [
    "fig = plt.figure(figsize=(16,6))\n",
    "# g = sns.catplot(x=\"Condition\", y=\"Accuracy\", hue=\"Retina Out Width\", row=\"VVS Layers\", col=\"Noise Type\", kind=\"bar\", data=test_scores)\n",
    "g = sns.catplot(x=\"Condition\", y=\"Accuracy\", row='Lambda', col=\"Noise Type\", kind=\"bar\", data=test_scores)\n",
    "# g = sns.catplot(x=\"Condition\", y=\"Loss\", hue=\"Retina Out Width\", row=\"VVS Layers\", col=\"Noise Type\", kind=\"bar\", data=test_scores)"
   ]
  },
  {
   "cell_type": "code",
   "execution_count": null,
   "metadata": {},
   "outputs": [],
   "source": []
  },
  {
   "cell_type": "code",
   "execution_count": null,
   "metadata": {},
   "outputs": [],
   "source": []
  },
  {
   "cell_type": "code",
   "execution_count": null,
   "metadata": {},
   "outputs": [],
   "source": [
    "# from keras.layers import InputLayer\n",
    "model.layers.pop(1)  # First convolutional layer\n",
    "gabor_input = InputLayer(input_shape=(224, 224, 32))\n",
    "gabor_output = model(gabor_input)\n",
    "gabor_model = Model(gabor_input, gabor_output)"
   ]
  },
  {
   "cell_type": "code",
   "execution_count": null,
   "metadata": {},
   "outputs": [],
   "source": [
    "from matplotlib import pyplot as plt\n",
    "# import cv2\n",
    "# from keras import backend as K\n",
    "# import numpy as np\n",
    "\n",
    "image_path = \"/workspace/data/Lenna.png\"\n",
    "# img = image.load_img(image_path)\n",
    "img = plt.imread(image_path)\n",
    "print(img.shape)\n",
    "img = cv2.cvtColor(img, cv2.COLOR_BGR2GRAY)\n",
    "print(type(img))\n",
    "img = K.expand_dims(img, 0)\n",
    "img = K.expand_dims(img, -1)\n",
    "\n",
    "gabor_filter(img, kernel_tensor=gft)"
   ]
  },
  {
   "cell_type": "code",
   "execution_count": null,
   "metadata": {},
   "outputs": [],
   "source": [
    "import tensorflow as tf\n",
    "with tf.Session().as_default():\n",
    "    plt.imshow(gabor_filter(img, kernel_tensor=gft).eval()[0,:,:,-1])"
   ]
  },
  {
   "cell_type": "code",
   "execution_count": null,
   "metadata": {},
   "outputs": [],
   "source": [
    "type(gabor_filters)"
   ]
  },
  {
   "cell_type": "code",
   "execution_count": null,
   "metadata": {},
   "outputs": [],
   "source": [
    "from keras.utils.vis_utils import plot_model\n",
    "plot_model(model, to_file='vgg.png')"
   ]
  },
  {
   "cell_type": "code",
   "execution_count": null,
   "metadata": {},
   "outputs": [],
   "source": []
  }
 ],
 "metadata": {
  "kernelspec": {
   "display_name": "Python 3",
   "language": "python",
   "name": "python3"
  },
  "language_info": {
   "codemirror_mode": {
    "name": "ipython",
    "version": 3
   },
   "file_extension": ".py",
   "mimetype": "text/x-python",
   "name": "python",
   "nbconvert_exporter": "python",
   "pygments_lexer": "ipython3",
   "version": "3.6.7"
  }
 },
 "nbformat": 4,
 "nbformat_minor": 4
}
